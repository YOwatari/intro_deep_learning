{
 "cells": [
  {
   "cell_type": "code",
   "execution_count": null,
   "metadata": {
    "collapsed": true
   },
   "outputs": [],
   "source": [
    "%matplotlib inline\n",
    "\n",
    "from chainer import cuda, Variable, FunctionSet, optimizers\n",
    "import chainer.functions as F\n",
    "import matplotlib as mlp\n",
    "import matplotlib.pyplot as plt\n",
    "import numpy as np\n",
    "\n",
    "mlp.style.use('ggplot')"
   ]
  },
  {
   "cell_type": "markdown",
   "metadata": {},
   "source": [
    "# Deep Lerning - 手書き文字認識\n",
    "\n",
    "以下の手順で進みます\n",
    "\n",
    "- データの確認\n",
    "- Chainerを使ってDeep Learning\n",
    "  - 活性化関数\n",
    "  - 情報の伝搬処理\n",
    "  - 各ユニットの初期値\n",
    "\n",
    "参考：[ニューラルネットワークで数字を認識するWebアプリを作る](http://qiita.com/ginrou@github/items/07b52a8520efcaebce37)"
   ]
  },
  {
   "cell_type": "markdown",
   "metadata": {},
   "source": [
    "## データの確認\n",
    "\n",
    "- 入力層のサイズ：784次元 (画像サイズ：28x28)\n",
    "- 出力層のサイズ：10次元 (0-9)\n",
    "- 中間層のサイズ：300次元"
   ]
  },
  {
   "cell_type": "code",
   "execution_count": null,
   "metadata": {
    "collapsed": true
   },
   "outputs": [],
   "source": [
    "mnist = np.load('data/mnist.npz')\n",
    "x_train = mnist['x_train'].astype(np.float32)\n",
    "x_test = mnist['x_test'].astype(np.float32)\n",
    "y_train = mnist['y_train'].astype(np.int32)\n",
    "y_test = mnist['y_test'].astype(np.int32)"
   ]
  },
  {
   "cell_type": "code",
   "execution_count": null,
   "metadata": {
    "collapsed": true
   },
   "outputs": [],
   "source": [
    "# 訓練データのサイズ\n",
    "x_train.shape"
   ]
  },
  {
   "cell_type": "code",
   "execution_count": null,
   "metadata": {
    "collapsed": true
   },
   "outputs": [],
   "source": [
    "# テストデータのサイズ\n",
    "x_test.shape"
   ]
  },
  {
   "cell_type": "code",
   "execution_count": null,
   "metadata": {
    "collapsed": true
   },
   "outputs": [],
   "source": [
    "# データの中身はどうなっているのか？\n",
    "print(x_train[25000][:90])\n",
    "print(y_train[25000])"
   ]
  },
  {
   "cell_type": "code",
   "execution_count": null,
   "metadata": {
    "collapsed": true
   },
   "outputs": [],
   "source": [
    "def draw_digit(data):\n",
    "    size = 28\n",
    "    X, Y = np.meshgrid(range(size), range(size))\n",
    "    Z = data.reshape(size, size)\n",
    "    Z = Z[::-1,:]\n",
    "\n",
    "    plt.figure(figsize=(2.5, 2.5))\n",
    "    \n",
    "    plt.xlim(0, 27)\n",
    "    plt.ylim(0, 27)\n",
    "    plt.pcolor(X, Y, Z)\n",
    "    plt.gray()\n",
    "    plt.tick_params(labelbottom=\"off\")\n",
    "    plt.tick_params(labelleft=\"off\")\n",
    "    \n",
    "    plt.show()\n",
    "\n",
    "# 個々のデータを描画してみる\n",
    "\n",
    "draw_digit(x_train[0])\n",
    "draw_digit(x_train[40000])\n",
    "draw_digit(x_train[-1])"
   ]
  },
  {
   "cell_type": "markdown",
   "metadata": {},
   "source": [
    "## Chainerを使ってDeep Learning\n",
    "\n",
    "- 活性化関数\n",
    "- 情報の伝搬処理\n",
    "- 重みの更新 ( ※時間的な問題で今回説明しません )"
   ]
  },
  {
   "cell_type": "markdown",
   "metadata": {},
   "source": [
    "### 活性化関数"
   ]
  },
  {
   "cell_type": "code",
   "execution_count": null,
   "metadata": {
    "collapsed": true
   },
   "outputs": [],
   "source": [
    "# 関数の形を描画してみる\n",
    "\n",
    "x_data = np.linspace(-10, 10, 100, dtype=np.float32)\n",
    "x = Variable(x_data)\n",
    "y = F.sigmoid(x)\n",
    "\n",
    "plt.plot(x.data, y.data, 'o--')"
   ]
  },
  {
   "cell_type": "code",
   "execution_count": null,
   "metadata": {
    "collapsed": true
   },
   "outputs": [],
   "source": [
    "# サンプルだと Rectified Linear Unit function が使われている\n",
    "x_data = np.linspace(-10, 10, 100, dtype=np.float32)\n",
    "x = Variable(x_data)\n",
    "y = F.relu(x)\n",
    "\n",
    "plt.plot(x.data, y.data, 'o--')"
   ]
  },
  {
   "cell_type": "markdown",
   "metadata": {},
   "source": [
    "### モデルの作成"
   ]
  },
  {
   "cell_type": "code",
   "execution_count": null,
   "metadata": {
    "collapsed": true
   },
   "outputs": [],
   "source": [
    "def forward(x_data, y_data, train=True):\n",
    "    x, t = Variable(x_data), Variable(y_data)\n",
    "    h1 = F.dropout(F.relu(model.l1(x)),  train=train)\n",
    "    h2 = F.dropout(F.relu(model.l2(h1)), train=train)\n",
    "    y  = model.l3(h2)\n",
    "    return F.softmax_cross_entropy(y, t), F.accuracy(y, t)\n",
    "\n",
    "def batch(train_size, batchsize):\n",
    "    sum_accuracy = 0\n",
    "    sum_loss     = 0\n",
    "    \n",
    "    for i in xrange(0, train_size, batchsize):\n",
    "        x_batch = x_train[perm[i:i+batchsize]]\n",
    "        y_batch = y_train[perm[i:i+batchsize]]\n",
    "\n",
    "        optimizer.zero_grads()\n",
    "        loss, acc = forward(x_batch, y_batch)\n",
    "        loss.backward()\n",
    "        optimizer.update()\n",
    "\n",
    "        sum_loss     += float(cuda.to_cpu(loss.data)) * batchsize\n",
    "        sum_accuracy += float(cuda.to_cpu(acc.data)) * batchsize\n",
    "\n",
    "    return sum_loss, sum_accuracy"
   ]
  },
  {
   "cell_type": "markdown",
   "metadata": {},
   "source": [
    "### 評価"
   ]
  },
  {
   "cell_type": "code",
   "execution_count": null,
   "metadata": {
    "collapsed": true
   },
   "outputs": [],
   "source": [
    "def evaluate(test_size, batchsize):\n",
    "    sum_accuracy = 0\n",
    "    sum_loss     = 0\n",
    "    for i in xrange(0, test_size, batchsize):\n",
    "        x_batch = x_test[i:i+batchsize]\n",
    "        y_batch = y_test[i:i+batchsize]\n",
    "\n",
    "        loss, acc = forward(x_batch, y_batch, train=False)\n",
    "\n",
    "        sum_loss     += float(cuda.to_cpu(loss.data)) * batchsize\n",
    "        sum_accuracy += float(cuda.to_cpu(acc.data)) * batchsize\n",
    "\n",
    "    return sum_loss, sum_accuracy"
   ]
  },
  {
   "cell_type": "markdown",
   "metadata": {},
   "source": [
    "## 作成したDeep Learningのモデルで実験\n",
    "\n",
    "作成したDeep Learningのモデルを使って文字認識の実験をしてみましょう\n",
    "\n",
    "- 学習\n",
    "- 予測"
   ]
  },
  {
   "cell_type": "code",
   "execution_count": null,
   "metadata": {
    "collapsed": true
   },
   "outputs": [],
   "source": [
    "train_loss = []\n",
    "train_acc  = []\n",
    "test_loss = []\n",
    "test_acc  = []\n",
    "\n",
    "l1_W = []\n",
    "l2_W = []\n",
    "l3_W = []\n",
    "\n",
    "input_size = 784\n",
    "output_size = 10\n",
    "hidden_size = 300\n",
    "\n",
    "model = FunctionSet(l1=F.Linear(input_size, hidden_size),\n",
    "                    l2=F.Linear(hidden_size, hidden_size),\n",
    "                    l3=F.Linear(hidden_size, output_size))\n",
    "optimizer = optimizers.Adam()\n",
    "optimizer.setup(model.collect_parameters())\n",
    "\n",
    "batchsize = 100  # 確率的勾配降下法で学習させる際の１回分のバッチサイズ\n",
    "n_epoch   = 20  # 学習の繰り返し回数\n",
    "train_size = x_train.shape[0]\n",
    "test_size = x_test.shape[0]\n",
    "\n",
    "for epoch in xrange(1, n_epoch+1):\n",
    "    print('epoch: {0}'.format(epoch))\n",
    "\n",
    "    perm = np.random.permutation(train_size)\n",
    "\n",
    "    sum_loss, sum_accuracy = batch(train_size, batchsize)\n",
    "    print 'train mean loss={}, accuracy={}'.format(sum_loss / train_size, sum_accuracy / train_size)\n",
    "    \n",
    "    # テストデータでの誤差と、正解精度を表示\n",
    "    sum_loss, sum_accuracy = evaluate(test_size, batchsize)\n",
    "    print 'test  mean loss={}, accuracy={}'.format(sum_loss / test_size, sum_accuracy / test_size)\n",
    "\n",
    "    # 学習したパラメーターを保存\n",
    "    l1_W.append(model.l1.W)\n",
    "    l2_W.append(model.l2.W)\n",
    "    l3_W.append(model.l3.W)"
   ]
  },
  {
   "cell_type": "markdown",
   "metadata": {},
   "source": [
    "## 作ったモデルを確認してみる"
   ]
  },
  {
   "cell_type": "code",
   "execution_count": null,
   "metadata": {
    "collapsed": true
   },
   "outputs": [],
   "source": [
    "plt.style.use('fivethirtyeight')\n",
    "def draw_digit3(data, n, ans, recog):\n",
    "    size = 28\n",
    "    plt.subplot(10, 10, n)\n",
    "    Z = data.reshape(size,size)   # convert from vector to 28x28 matrix\n",
    "    Z = Z[::-1,:]             # flip vertical\n",
    "    plt.xlim(0,27)\n",
    "    plt.ylim(0,27)\n",
    "    plt.pcolor(Z)\n",
    "    plt.title(\"ans=%d, recog=%d\"%(ans,recog), size=8)\n",
    "    plt.gray()\n",
    "    plt.tick_params(labelbottom=\"off\")\n",
    "    plt.tick_params(labelleft=\"off\")\n",
    "\n",
    "\n",
    "plt.figure(figsize=(15,15))\n",
    "\n",
    "cnt = 0\n",
    "for idx in np.random.permutation(train_size)[:100]:\n",
    "\n",
    "    xxx = x_train[idx].astype(np.float32)\n",
    "    h1 = F.dropout(F.relu(model.l1(Variable(xxx.reshape(1,784)))),  train=False)\n",
    "    h2 = F.dropout(F.relu(model.l2(h1)), train=False)\n",
    "    y  = model.l3(h2)\n",
    "    cnt+=1\n",
    "    draw_digit3(x_train[idx], cnt, y_train[idx], np.argmax(y.data))\n",
    "plt.show()"
   ]
  },
  {
   "cell_type": "code",
   "execution_count": null,
   "metadata": {
    "collapsed": true
   },
   "outputs": [],
   "source": [
    "def draw_digit2(data, n, i):\n",
    "    size = 28\n",
    "    plt.subplot(10, 10, n)\n",
    "    Z = data.reshape(size,size)   # convert from vector to 28x28 matrix\n",
    "    Z = Z[::-1,:]             # flip vertical\n",
    "    plt.xlim(0,27)\n",
    "    plt.ylim(0,27)\n",
    "    plt.pcolor(Z)\n",
    "    plt.title(\"%d\"%i, size=9)\n",
    "    plt.gray()\n",
    "    plt.tick_params(labelbottom=\"off\")\n",
    "    plt.tick_params(labelleft=\"off\")\n",
    "\n",
    "plt.figure(figsize=(10,10))\n",
    "cnt = 1\n",
    "for i in np.random.permutation(hidden_size)[:100]:\n",
    "    draw_digit2(l1_W[len(l1_W)-1][i], cnt, i)\n",
    "    cnt += 1\n",
    "\n",
    "plt.show()"
   ]
  },
  {
   "cell_type": "code",
   "execution_count": null,
   "metadata": {
    "collapsed": true
   },
   "outputs": [],
   "source": []
  }
 ],
 "metadata": {
  "kernelspec": {
   "display_name": "Python 2",
   "language": "python",
   "name": "python2"
  },
  "language_info": {
   "codemirror_mode": {
    "name": "ipython",
    "version": 2
   },
   "file_extension": ".py",
   "mimetype": "text/x-python",
   "name": "python",
   "nbconvert_exporter": "python",
   "pygments_lexer": "ipython2",
   "version": "2.7.9"
  }
 },
 "nbformat": 4,
 "nbformat_minor": 0
}
