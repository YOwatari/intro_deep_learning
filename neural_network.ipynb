{
 "cells": [
  {
   "cell_type": "code",
   "execution_count": null,
   "metadata": {
    "collapsed": true
   },
   "outputs": [],
   "source": [
    "%matplotlib inline\n",
    "\n",
    "import matplotlib as mlp\n",
    "import matplotlib.pyplot as plt\n",
    "import numpy as np\n",
    "\n",
    "mlp.style.use('ggplot')"
   ]
  },
  {
   "cell_type": "markdown",
   "metadata": {},
   "source": [
    "# Neural Network - 手書き文字認識\n",
    "\n",
    "以下の手順で進みます\n",
    "\n",
    "- データの確認\n",
    "- Neural Networkの作成\n",
    "  - 活性化関数\n",
    "  - 情報の伝搬処理\n",
    "  - 各ユニットの初期値\n",
    "\n",
    "参考：[ニューラルネットワークで数字を認識するWebアプリを作る](http://qiita.com/ginrou@github/items/07b52a8520efcaebce37)"
   ]
  },
  {
   "cell_type": "markdown",
   "metadata": {},
   "source": [
    "## データの確認\n",
    "\n",
    "- 入力層のサイズ：784次元 (画像サイズ：28x28)\n",
    "- 出力層のサイズ：10次元 (0-9)\n",
    "- 中間層のサイズ：300次元"
   ]
  },
  {
   "cell_type": "code",
   "execution_count": null,
   "metadata": {
    "collapsed": true
   },
   "outputs": [],
   "source": [
    "mnist = np.load('data/mnist.npz')\n",
    "x_train = mnist['x_train']\n",
    "x_test = mnist['x_test']\n",
    "y_train = mnist['y_train']\n",
    "y_test = mnist['y_test']"
   ]
  },
  {
   "cell_type": "code",
   "execution_count": null,
   "metadata": {
    "collapsed": true
   },
   "outputs": [],
   "source": [
    "# 訓練データのサイズ\n",
    "x_train.shape"
   ]
  },
  {
   "cell_type": "code",
   "execution_count": null,
   "metadata": {
    "collapsed": true
   },
   "outputs": [],
   "source": [
    "# テストデータのサイズ\n",
    "x_test.shape"
   ]
  },
  {
   "cell_type": "code",
   "execution_count": null,
   "metadata": {
    "collapsed": true
   },
   "outputs": [],
   "source": [
    "# データの中身はどうなっているのか？\n",
    "print(x_train[25000][:90])\n",
    "print(y_train[25000])"
   ]
  },
  {
   "cell_type": "code",
   "execution_count": null,
   "metadata": {
    "collapsed": true
   },
   "outputs": [],
   "source": [
    "def draw_digit(data):\n",
    "    size = 28\n",
    "    X, Y = np.meshgrid(range(size), range(size))\n",
    "    Z = data.reshape(size, size)\n",
    "    Z = Z[::-1,:]\n",
    "\n",
    "    plt.figure(figsize=(2.5, 2.5))\n",
    "    \n",
    "    plt.xlim(0, 27)\n",
    "    plt.ylim(0, 27)\n",
    "    plt.pcolor(X, Y, Z)\n",
    "    plt.gray()\n",
    "    plt.tick_params(labelbottom=\"off\")\n",
    "    plt.tick_params(labelleft=\"off\")\n",
    "    \n",
    "    plt.show()\n",
    "\n",
    "# 個々のデータを描画してみる\n",
    "\n",
    "draw_digit(x_train[0])\n",
    "draw_digit(x_train[40000])\n",
    "draw_digit(x_train[-1])"
   ]
  },
  {
   "cell_type": "markdown",
   "metadata": {},
   "source": [
    "## Neural Networkの作成\n",
    "\n",
    "実際にNeural Networkを設計してみる\n",
    "\n",
    "- 活性化関数\n",
    "- 情報の伝搬処理\n",
    "- 重みの更新 ( ※時間的な問題で今回説明しません )"
   ]
  },
  {
   "cell_type": "markdown",
   "metadata": {},
   "source": [
    "### 活性化関数"
   ]
  },
  {
   "cell_type": "code",
   "execution_count": null,
   "metadata": {
    "collapsed": true
   },
   "outputs": [],
   "source": [
    "# シグモイド関数\n",
    "\n",
    "f = lambda x: 1. / (1. + np.exp(-x))"
   ]
  },
  {
   "cell_type": "code",
   "execution_count": null,
   "metadata": {
    "collapsed": true
   },
   "outputs": [],
   "source": [
    "# 関数の形を描画してみる\n",
    "\n",
    "x = [xi for xi in np.linspace(-10, 10)]\n",
    "y = [f(xi) for xi in x]\n",
    "\n",
    "plt.plot(x, y, 'o--')"
   ]
  },
  {
   "cell_type": "markdown",
   "metadata": {},
   "source": [
    "### 情報の伝播処理"
   ]
  },
  {
   "cell_type": "code",
   "execution_count": null,
   "metadata": {
    "collapsed": true
   },
   "outputs": [],
   "source": [
    "def fire(x, hidden_weight, output_weight):\n",
    "    z = np.vectorize(f)(hidden_weight.dot(np.r_[np.array([1]), x]))\n",
    "    y = np.vectorize(f)(output_weight.dot(np.r_[np.array([1]), z]))\n",
    "    return (z, y)"
   ]
  },
  {
   "cell_type": "markdown",
   "metadata": {},
   "source": [
    "### 重みの更新 ( ※時間的な問題で今回説明しません )"
   ]
  },
  {
   "cell_type": "code",
   "execution_count": null,
   "metadata": {
    "collapsed": true
   },
   "outputs": [],
   "source": [
    "def fit(x, t, hidden_weight, output_weight, learning_ratio=0.1):\n",
    "    z, y = fire(x, hidden_weight, output_weight)\n",
    "    dy = (y - t) * y * (1 - y)\n",
    "    dz = (output_weight.T.dot(dy))[1:] * z * (1 - z)\n",
    "\n",
    "    hidden_input = np.r_[np.array([1]), x]\n",
    "    hidden_weight -= learning_ratio * dz.reshape(-1, 1) * hidden_input\n",
    "    \n",
    "    output_input = np.r_[np.array([1]), z]\n",
    "    output_weight -= learning_ratio * dy.reshape(-1, 1) * output_input\n",
    " \n",
    "    return hidden_weight, output_weight"
   ]
  },
  {
   "cell_type": "markdown",
   "metadata": {},
   "source": [
    "### 予測処理"
   ]
  },
  {
   "cell_type": "code",
   "execution_count": null,
   "metadata": {
    "collapsed": true
   },
   "outputs": [],
   "source": [
    "def predicate(x, hidden_weight, output_weight):\n",
    "    z, y = fire(x, hidden_weight, output_weight)\n",
    "    return np.array(y).argmax()"
   ]
  },
  {
   "cell_type": "markdown",
   "metadata": {},
   "source": [
    "## 作成したNeural Networkで実験\n",
    "\n",
    "作成したNeural Networkを使って文字認識の実験をしてみましょう\n",
    "\n",
    "- 学習\n",
    "- 予測"
   ]
  },
  {
   "cell_type": "markdown",
   "metadata": {},
   "source": [
    "### 学習"
   ]
  },
  {
   "cell_type": "code",
   "execution_count": null,
   "metadata": {
    "collapsed": true
   },
   "outputs": [],
   "source": [
    "input_size = 784\n",
    "output_size = 10\n",
    "hidden_size = 300\n",
    "\n",
    "# 重みを一様分布でおくと精度がめっちゃ下がるの面白かったので残しておく (50%位になる)\n",
    "#hidden_weight = np.random.uniform(-1.0, 1.0, (hidden_size, input_size + 1))\n",
    "#output_weight = np.random.uniform(-1.0, 1.0, (output_size, hidden_size + 1))\n",
    "\n",
    "hidden_weight = 0.1 * (np.random.random_sample((hidden_size, input_size+1)) - 0.5)\n",
    "output_weight = 0.1 * (np.random.random_sample((output_size, hidden_size+1)) - 0.5)\n",
    "\n",
    "print(hidden_weight.shape)\n",
    "print(output_weight.shape)"
   ]
  },
  {
   "cell_type": "code",
   "execution_count": null,
   "metadata": {
    "collapsed": true
   },
   "outputs": [],
   "source": [
    "def to_formatted_array(x, output_size):\n",
    "    formatted_x = np.zeros(output_size)\n",
    "    formatted_x.put(x, 1)\n",
    "    return formatted_x"
   ]
  },
  {
   "cell_type": "code",
   "execution_count": null,
   "metadata": {
    "collapsed": true
   },
   "outputs": [],
   "source": [
    "for i in range(x_train.shape[0]):\n",
    "    x = x_train[i]\n",
    "    y = to_formatted_array(y_train[i], output_size)\n",
    "\n",
    "    hidden_weight, output_weight = fit(x, y, hidden_weight, output_weight)"
   ]
  },
  {
   "cell_type": "markdown",
   "metadata": {},
   "source": [
    "### 予測"
   ]
  },
  {
   "cell_type": "code",
   "execution_count": null,
   "metadata": {
    "collapsed": true
   },
   "outputs": [],
   "source": [
    "ok = 0\n",
    "\n",
    "length = x_test.shape[0]\n",
    "for i in range(length):\n",
    "    x = x_test[i]\n",
    "    y = y_test[i]\n",
    "\n",
    "    pred = predicate(x, hidden_weight, output_weight)\n",
    "    if int(y) == int(pred):\n",
    "        ok += 1\n",
    "\n",
    "print(\"{0:05d} / {1:05d} = {2:3.2f}%\".format(ok, length, 100. * ok / length))"
   ]
  },
  {
   "cell_type": "markdown",
   "metadata": {},
   "source": [
    "## 作ったモデルを保存"
   ]
  },
  {
   "cell_type": "code",
   "execution_count": null,
   "metadata": {
    "collapsed": true
   },
   "outputs": [],
   "source": [
    "np.savez('data/neural_network', hidden=hidden_weight, output=output_weight)"
   ]
  },
  {
   "cell_type": "code",
   "execution_count": null,
   "metadata": {
    "collapsed": true
   },
   "outputs": [],
   "source": []
  }
 ],
 "metadata": {
  "kernelspec": {
   "display_name": "Python 2",
   "language": "python",
   "name": "python2"
  },
  "language_info": {
   "codemirror_mode": {
    "name": "ipython",
    "version": 2
   },
   "file_extension": ".py",
   "mimetype": "text/x-python",
   "name": "python",
   "nbconvert_exporter": "python",
   "pygments_lexer": "ipython2",
   "version": "2.7.9"
  }
 },
 "nbformat": 4,
 "nbformat_minor": 0
}
